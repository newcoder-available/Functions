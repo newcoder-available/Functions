{
  "cells": [
    {
      "cell_type": "markdown",
      "source": [
        "# Theory Questions\n",
        "1. What is the difference between a function and a method in Python?\n",
        "  A function is a block of code designed to perform a particular task and is not tied to any object.\n",
        "  A method is a function that is associated with an object and called using the object.\n",
        "  Example:\n",
        "```python\n",
        "def greet():\n",
        "    print(\"Hello\")\n",
        "\n",
        "    class Person:\n",
        "    def speak(self):\n",
        "    print(\"Speaking\")\n",
        "```\n",
        "2. Explain the concept of function arguments and parameters in Python.\n",
        "   Parameters are variables listed in the function definition.\n",
        "   Arguments are the actual values passed to the function.\n",
        "   Example:\n",
        "```python\n",
        "    def add(a, b):\n",
        "    return a + b\n",
        "    add(5, 3)\n",
        "```\n",
        "3. What are the different ways to define and call a function in Python?\n",
        "   - Using `def` keyword\n",
        "   - Using lambda functions\n",
        "   Example:\n",
        "   ```python\n",
        "  def add(a, b):\n",
        "  return a + b\n",
        "  lambda x: x*x\n",
        "  ```\n",
        "4. What is the purpose of the `return` statement in a Python function?\n",
        "   It is used to exit a function and hand back a value to the caller.\n",
        "   Example:\n",
        "   ```python\n",
        "   def square(x): return x*x\n",
        "   ```\n",
        "\n",
        "5. What are iterators in Python and how do they differ from iterables?\n",
        "   An iterable is any object you can loop over (e.g., list).\n",
        "   An iterator is an object with a `__next__()` method.\n",
        "   Example:\n",
        "   ```python\n",
        "   it = iter([1,2,3])\n",
        "   next(it)\n",
        "   ```\n",
        "6. Explain the concept of generators in Python and how they are defined.\n",
        "Generators use `yield` to return data during iteration without storing all items in memory.\n",
        "Example:\n",
        "```python\n",
        "def gen():\n",
        "    yield 1\n",
        "    yield 2\n",
        "```\n",
        "7. What are the advantages of using generators over regular functions?\n",
        "- Memory efficient\n",
        "- Useful for large datasets\n",
        "- Lazy evaluation\n",
        "\n",
        "8. What is a lambda function in Python and when is it typically used?\n",
        "   Anonymous function used for short, simple operations.\n",
        "   Example:\n",
        "   ```python\n",
        "   lambda x: x*2\n",
        "   ```\n",
        "9. Explain the purpose and usage of the `map()` function in Python.\n",
        "   Applies a function to all items in an iterable.\n",
        "  Example:\n",
        "  ```python\n",
        "  list(map(lambda x: x*2, [1,2,3]))\n",
        "   ```\n",
        "10. What is the difference between `map()`, `reduce()`, and `filter()` functions in Python?\n",
        "    \n",
        "    map(): transforms elements\n",
        "    \n",
        "    filter(): filters elements\n",
        "    \n",
        "    reduce(): reduces to a single value\n",
        "    Example:\n",
        "    ```python\n",
        "    from functools import reduce\n",
        "    reduce(lambda x,y: x+y, [1,2,3])\n"
      ],
      "metadata": {
        "id": "7qxoJt77LWsy"
      },
      "id": "7qxoJt77LWsy"
    },
    {
      "cell_type": "code",
      "source": [
        "#Practical Questions\n",
        "#1. Write a Python function that takes a list of numbers as input and returns the sum of all even numbers in the \"list\"\n",
        "\n",
        "def sum_of_even_numbers(numbers):\n",
        "   return sum(num for num in numbers if num % 2 == 0)\n",
        "\n",
        "# Example usage:\n",
        "my_list = [1, 2, 3, 4, 5, 6]\n",
        "result = sum_of_even_numbers(my_list)\n",
        "print(\"Sum of even numbers:\", result)\n"
      ],
      "metadata": {
        "colab": {
          "base_uri": "https://localhost:8080/"
        },
        "id": "UFClkykgNwWD",
        "outputId": "d922ba9b-d790-4d9c-9c4c-ee97ed0e134a"
      },
      "id": "UFClkykgNwWD",
      "execution_count": 12,
      "outputs": [
        {
          "output_type": "stream",
          "name": "stdout",
          "text": [
            "Sum of even numbers: 12\n"
          ]
        }
      ]
    },
    {
      "cell_type": "code",
      "source": [
        "# 2. Create a Python function that accepts a string and returns the reverse of that string.\n",
        "\n",
        "def reverse_string(s):\n",
        "    return s[::-1]\n",
        "\n",
        "# Example usage:\n",
        "input_str = \"hello\"\n",
        "reversed_str = reverse_string(input_str)\n",
        "print(\"Reversed string:\", reversed_str)\n"
      ],
      "metadata": {
        "colab": {
          "base_uri": "https://localhost:8080/"
        },
        "id": "yvKDYWT8PimI",
        "outputId": "359bb27b-9137-4866-fc32-6b07526467b1"
      },
      "id": "yvKDYWT8PimI",
      "execution_count": 13,
      "outputs": [
        {
          "output_type": "stream",
          "name": "stdout",
          "text": [
            "Reversed string: olleh\n"
          ]
        }
      ]
    },
    {
      "cell_type": "code",
      "source": [
        "# 3. Implement a Python function that takes a list of integers and returns a new list containing the squares of each number\n",
        "\n",
        "def square_numbers(numbers):\n",
        "    return [num ** 2 for num in numbers]\n",
        "\n",
        "input_list = [1, 2, 3, 4, 5]\n",
        "squared_list = square_numbers(input_list)\n",
        "print(\"Squared numbers:\", squared_list)\n"
      ],
      "metadata": {
        "colab": {
          "base_uri": "https://localhost:8080/"
        },
        "id": "Y5RhrEJaQW3n",
        "outputId": "83a7522c-a9a7-4470-e4d3-f23063b28334"
      },
      "id": "Y5RhrEJaQW3n",
      "execution_count": 15,
      "outputs": [
        {
          "output_type": "stream",
          "name": "stdout",
          "text": [
            "Squared numbers: [1, 4, 9, 16, 25]\n"
          ]
        }
      ]
    },
    {
      "cell_type": "code",
      "source": [
        "# 4. Write a Python function that checks if a given number is prime or not from 1 to 200.\n",
        "\n",
        "def is_prime(n):\n",
        "    if n < 2:\n",
        "        return False\n",
        "    for i in range(2, int(n**0.5) + 1):\n",
        "        if n % i == 0:\n",
        "            return False\n",
        "    return True\n",
        "\n",
        "def primes_from_1_to_200():\n",
        "    return [n for n in range(1, 201) if is_prime(n)]\n",
        "\n",
        "# Example usage:\n",
        "prime_numbers = primes_from_1_to_200()\n",
        "print(\"Prime numbers from 1 to 200:\", prime_numbers)"
      ],
      "metadata": {
        "colab": {
          "base_uri": "https://localhost:8080/"
        },
        "id": "bQ_uylSIRE23",
        "outputId": "a0d6ea5d-aaff-46d3-871a-3d285fd7f0b3"
      },
      "id": "bQ_uylSIRE23",
      "execution_count": 16,
      "outputs": [
        {
          "output_type": "stream",
          "name": "stdout",
          "text": [
            "Prime numbers from 1 to 200: [2, 3, 5, 7, 11, 13, 17, 19, 23, 29, 31, 37, 41, 43, 47, 53, 59, 61, 67, 71, 73, 79, 83, 89, 97, 101, 103, 107, 109, 113, 127, 131, 137, 139, 149, 151, 157, 163, 167, 173, 179, 181, 191, 193, 197, 199]\n"
          ]
        }
      ]
    },
    {
      "cell_type": "code",
      "source": [
        "# 5. Create an iterator class in Python that generates the Fibonacci sequence up to a specified number of terms.\n",
        "\n",
        "class FibonacciIterator:\n",
        "    def __init__(self, max_terms):\n",
        "        self.max_terms = max_terms\n",
        "        self.count = 0\n",
        "        self.a, self.b = 0, 1\n",
        "\n",
        "    def __iter__(self):\n",
        "        return self\n",
        "\n",
        "    def __next__(self):\n",
        "        if self.count >= self.max_terms:\n",
        "            raise StopIteration\n",
        "        value = self.a\n",
        "        self.a, self.b = self.b, self.a + self.b\n",
        "        self.count += 1\n",
        "        return value\n",
        "\n",
        "# Example usage:\n",
        "fib = FibonacciIterator(10)\n",
        "for num in fib:\n",
        "    print(num, end=\" \")\n"
      ],
      "metadata": {
        "colab": {
          "base_uri": "https://localhost:8080/"
        },
        "id": "4UlNL-GZRjoH",
        "outputId": "6ad6e2a5-323c-4b9f-9f9e-bf1591d7989a"
      },
      "id": "4UlNL-GZRjoH",
      "execution_count": 17,
      "outputs": [
        {
          "output_type": "stream",
          "name": "stdout",
          "text": [
            "0 1 1 2 3 5 8 13 21 34 "
          ]
        }
      ]
    },
    {
      "cell_type": "code",
      "source": [
        "# 6. Write a generator function in Python that yields the powers of 2 up to a given exponent.\n",
        "def powers_of_two(max_exponent):\n",
        "    for i in range(max_exponent + 1):\n",
        "        yield 2 ** i\n",
        "\n",
        "for power in powers_of_two(5):\n",
        "    print(power)\n"
      ],
      "metadata": {
        "colab": {
          "base_uri": "https://localhost:8080/"
        },
        "id": "wKB_eeFFR0AV",
        "outputId": "0becd046-5154-4caf-dc1e-c7c213f75cfc"
      },
      "id": "wKB_eeFFR0AV",
      "execution_count": 18,
      "outputs": [
        {
          "output_type": "stream",
          "name": "stdout",
          "text": [
            "1\n",
            "2\n",
            "4\n",
            "8\n",
            "16\n",
            "32\n"
          ]
        }
      ]
    },
    {
      "cell_type": "code",
      "source": [
        "# 7. Implement a generator function that reads a file line by line and yields each line as a string\n",
        "\n",
        "def read_file_line_by_line(file_path):\n",
        "    with open(file_path, 'r') as file:\n",
        "        for line in file:\n",
        "            yield line.strip()\n",
        "\n",
        "        print(line)\n"
      ],
      "metadata": {
        "id": "o3RjDoeNSDKV"
      },
      "id": "o3RjDoeNSDKV",
      "execution_count": 21,
      "outputs": []
    },
    {
      "cell_type": "code",
      "source": [
        "# 8. Use a lambda function in Python to sort a list of tuples based on the second element of each tuple.\n",
        "\n",
        "data = [(1, 3), (2, 1), (4, 2), (5, 0)]\n",
        "sorted_data = sorted(data, key=lambda x: x[1])\n",
        "print(\"Sorted list:\", sorted_data)\n"
      ],
      "metadata": {
        "colab": {
          "base_uri": "https://localhost:8080/"
        },
        "id": "8gXLmjtRSzGE",
        "outputId": "499ef278-03e2-40fd-c9b9-2bc9a5b73f37"
      },
      "id": "8gXLmjtRSzGE",
      "execution_count": 23,
      "outputs": [
        {
          "output_type": "stream",
          "name": "stdout",
          "text": [
            "Sorted list: [(5, 0), (2, 1), (4, 2), (1, 3)]\n"
          ]
        }
      ]
    },
    {
      "cell_type": "code",
      "source": [
        "# 9.Write a Python program that uses `map()` to convert a list of temperatures from Celsius to Fahrenheit.\n",
        "# Celsius to Fahrenheit conversion formula: F = (C * 9/5) + 32\n",
        "\n",
        "\n",
        "celsius_temps = [0, 20, 37, 100]\n",
        "fahrenheit_temps = list(map(lambda c: (c * 9/5) + 32, celsius_temps))\n",
        "\n",
        "print(\"Fahrenheit temperatures:\", fahrenheit_temps)\n"
      ],
      "metadata": {
        "colab": {
          "base_uri": "https://localhost:8080/"
        },
        "id": "vbvPgCvFTHEA",
        "outputId": "d2522941-dcde-4895-e2b3-2ecc1f597c23"
      },
      "id": "vbvPgCvFTHEA",
      "execution_count": 24,
      "outputs": [
        {
          "output_type": "stream",
          "name": "stdout",
          "text": [
            "Fahrenheit temperatures: [32.0, 68.0, 98.6, 212.0]\n"
          ]
        }
      ]
    },
    {
      "cell_type": "code",
      "source": [
        "# 10. Create a Python program that uses `filter()` to remove all the vowels from a given string.\n",
        "\n",
        "def remove_vowels(input_str):\n",
        "    vowels = \"aeiouAEIOU\"\n",
        "    return ''.join(filter(lambda char: char not in vowels, input_str))\n",
        "\n",
        "text = \"Hello, World!\"\n",
        "no_vowels = remove_vowels(text)\n",
        "print(\"String without vowels:\", no_vowels)\n"
      ],
      "metadata": {
        "colab": {
          "base_uri": "https://localhost:8080/"
        },
        "id": "k89e8_vTUCNf",
        "outputId": "07c9ae3f-d53f-4c3e-eac0-5b9895ba4918"
      },
      "id": "k89e8_vTUCNf",
      "execution_count": 25,
      "outputs": [
        {
          "output_type": "stream",
          "name": "stdout",
          "text": [
            "String without vowels: Hll, Wrld!\n"
          ]
        }
      ]
    },
    {
      "cell_type": "code",
      "source": [
        "# 11. Write a Python program, which returns a list with 2-tuples. Each tuple consists of the order number and the product of the price per item and the quantity. The product should be increased by 10,- € if the value of the order is smaller than 100,00 €\n",
        "\n",
        "\n",
        "\n",
        "orders = [\n",
        "    [34587, 'Learning Python, Mark Lutz', 4, 40.95],\n",
        "    [98762, 'Programming Python, Mark Lutz', 5, 56.80],\n",
        "    [77226, 'Head First Python, Paul Barry', 3, 32.95],\n",
        "    [88112, 'Einführung in Python3, Bernd Klein', 3, 24.99]\n",
        "]\n",
        "\n",
        "\n",
        "result = list(map(lambda order: (\n",
        "    order[0],\n",
        "    order[2] * order[3] + (10 if order[2] * order[3] < 100 else 0)\n",
        "), orders))\n",
        "\n",
        "print(result)\n"
      ],
      "metadata": {
        "colab": {
          "base_uri": "https://localhost:8080/"
        },
        "id": "uADw9Eh5UgAb",
        "outputId": "2cb9d452-b1fd-4147-fb24-dd828d477621"
      },
      "id": "uADw9Eh5UgAb",
      "execution_count": 26,
      "outputs": [
        {
          "output_type": "stream",
          "name": "stdout",
          "text": [
            "[(34587, 163.8), (98762, 284.0), (77226, 108.85000000000001), (88112, 84.97)]\n"
          ]
        }
      ]
    }
  ],
  "metadata": {
    "colab": {
      "provenance": []
    },
    "language_info": {
      "name": "python"
    },
    "kernelspec": {
      "name": "python3",
      "display_name": "Python 3"
    }
  },
  "nbformat": 4,
  "nbformat_minor": 5
}